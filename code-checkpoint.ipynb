{
 "cells": [
  {
   "cell_type": "code",
   "execution_count": 1,
   "id": "7ecfd800",
   "metadata": {},
   "outputs": [],
   "source": [
    "import pandas as pd\n",
    "import scipy.stats as stats\n",
    "import matplotlib.pyplot as plt\n",
    "import seaborn as sns"
   ]
  },
  {
   "cell_type": "code",
   "execution_count": 2,
   "id": "6d5760f7",
   "metadata": {},
   "outputs": [],
   "source": [
    "# Load the dataset\n",
    "data = pd.read_csv('ab_test_data.csv')"
   ]
  },
  {
   "cell_type": "code",
   "execution_count": 3,
   "id": "ec1f7948",
   "metadata": {},
   "outputs": [
    {
     "name": "stdout",
     "output_type": "stream",
     "text": [
      "Data Info:\n",
      "<class 'pandas.core.frame.DataFrame'>\n",
      "RangeIndex: 588101 entries, 0 to 588100\n",
      "Data columns (total 7 columns):\n",
      " #   Column         Non-Null Count   Dtype \n",
      "---  ------         --------------   ----- \n",
      " 0   Unnamed: 0     588101 non-null  int64 \n",
      " 1   user_id        588101 non-null  int64 \n",
      " 2   group          588101 non-null  object\n",
      " 3   converted      588101 non-null  bool  \n",
      " 4   total ads      588101 non-null  int64 \n",
      " 5   most ads day   588101 non-null  object\n",
      " 6   most ads hour  588101 non-null  int64 \n",
      "dtypes: bool(1), int64(4), object(2)\n",
      "memory usage: 27.5+ MB\n",
      "None\n",
      "\n",
      "Head of the data:\n",
      "   Unnamed: 0  user_id group  converted  total ads most ads day  most ads hour\n",
      "0           0  1069124    ad      False        130       Monday             20\n",
      "1           1  1119715    ad      False         93      Tuesday             22\n",
      "2           2  1144181    ad      False         21      Tuesday             18\n",
      "3           3  1435133    ad      False        355      Tuesday             10\n",
      "4           4  1015700    ad      False        276       Friday             14\n"
     ]
    }
   ],
   "source": [
    "# Display basic information about the dataset\n",
    "print(\"Data Info:\")\n",
    "print(data.info())\n",
    "print(\"\\nHead of the data:\")\n",
    "print(data.head())"
   ]
  },
  {
   "cell_type": "code",
   "execution_count": 4,
   "id": "3b6ce8dd",
   "metadata": {},
   "outputs": [],
   "source": [
    "# Check for null values\n",
    "if data.isnull().sum().any():\n",
    "    print(\"Missing values found. Cleaning data...\")\n",
    "    data = data.dropna()"
   ]
  },
  {
   "cell_type": "code",
   "execution_count": 5,
   "id": "e69e78b6",
   "metadata": {},
   "outputs": [
    {
     "name": "stdout",
     "output_type": "stream",
     "text": [
      "\n",
      "Control group conversion rate:\n",
      "nan\n",
      "\n",
      "Variant group conversion rate:\n",
      "nan\n"
     ]
    }
   ],
   "source": [
    "# Basic statistics for the groups\n",
    "control_group = data[data['group'] == 'control']\n",
    "variant_group = data[data['group'] == 'variant']\n",
    "\n",
    "print(\"\\nControl group conversion rate:\")\n",
    "print(control_group['converted'].mean())\n",
    "print(\"\\nVariant group conversion rate:\")\n",
    "print(variant_group['converted'].mean())"
   ]
  },
  {
   "cell_type": "markdown",
   "id": "6d7bb407",
   "metadata": {},
   "source": [
    "# Step 1: Perform a Two-Tailed Hypothesis Test\n",
    "# Null Hypothesis (H0): The means of the two groups are the same (no significant difference)\n",
    "# Alternative Hypothesis (H1): The means of the two groups are different (significant difference)"
   ]
  },
  {
   "cell_type": "code",
   "execution_count": 6,
   "id": "b0e97682",
   "metadata": {},
   "outputs": [],
   "source": [
    "# Step 2: Perform a t-test (or z-test if sample size is large enough)\n",
    "t_stat, p_value = stats.ttest_ind(control_group['converted'], variant_group['converted'])"
   ]
  },
  {
   "cell_type": "code",
   "execution_count": 7,
   "id": "65e24174",
   "metadata": {},
   "outputs": [],
   "source": [
    "# Report the results\n",
    "alpha = 0.05  # Significance level"
   ]
  },
  {
   "cell_type": "code",
   "execution_count": 8,
   "id": "9f6acb6e",
   "metadata": {},
   "outputs": [
    {
     "name": "stdout",
     "output_type": "stream",
     "text": [
      "\n",
      "T-statistic: nan\n",
      "P-value: nan\n"
     ]
    }
   ],
   "source": [
    "print(\"\\nT-statistic:\", t_stat)\n",
    "print(\"P-value:\", p_value)"
   ]
  },
  {
   "cell_type": "code",
   "execution_count": 9,
   "id": "b9e27514",
   "metadata": {},
   "outputs": [
    {
     "name": "stdout",
     "output_type": "stream",
     "text": [
      "Result: Fail to reject the null hypothesis. No significant difference found.\n"
     ]
    }
   ],
   "source": [
    "if p_value < alpha:\n",
    "    print(\"Result: Reject the null hypothesis. There is a significant difference between the groups.\")\n",
    "else:\n",
    "    print(\"Result: Fail to reject the null hypothesis. No significant difference found.\")"
   ]
  },
  {
   "cell_type": "code",
   "execution_count": 11,
   "id": "8138c3ae",
   "metadata": {},
   "outputs": [
    {
     "data": {
      "image/png": "[encoded data removed]",
      "text/plain": [
       "<Figure size 1000x600 with 1 Axes>"
      ]
     },
     "metadata": {},
     "output_type": "display_data"
    }
   ],
   "source": [
    "# Step 3: Visualize the Results\n",
    "plt.figure(figsize=(10, 6))\n",
    "sns.barplot(x='group', y='converted', data=data, errorbar=None)\n",
    "plt.title('Conversion Rates by Group')\n",
    "plt.ylabel('Conversion Rate')\n",
    "plt.show()"
   ]
  },
  {
   "cell_type": "code",
   "execution_count": 16,
   "id": "5cfc1abb",
   "metadata": {},
   "outputs": [
    {
     "name": "stdout",
     "output_type": "stream",
     "text": [
      "Control group:\n",
      "Empty DataFrame\n",
      "Columns: [Unnamed: 0, user_id, group, converted, total ads, most ads day, most ads hour]\n",
      "Index: []\n",
      "Control group size: 0\n",
      "\n",
      "Variant group:\n",
      "Empty DataFrame\n",
      "Columns: [Unnamed: 0, user_id, group, converted, total ads, most ads day, most ads hour]\n",
      "Index: []\n",
      "Variant group size: 0\n",
      "\n"
     ]
    }
   ],
   "source": [
    "print(\"Control group:\")\n",
    "print(control_group.head())  # Display first few rows of the control group\n",
    "print(f\"Control group size: {len(control_group)}\\n\")\n",
    "\n",
    "print(\"Variant group:\")\n",
    "print(variant_group.head())  # Display first few rows of the variant group\n",
    "print(f\"Variant group size: {len(variant_group)}\\n\")\n"
   ]
  },
  {
   "cell_type": "code",
   "execution_count": 17,
   "id": "88a619b6",
   "metadata": {
    "scrolled": false
   },
   "outputs": [
    {
     "name": "stdout",
     "output_type": "stream",
     "text": [
      "Dataset overview:\n",
      "   Unnamed: 0  user_id group  converted  total ads most ads day  most ads hour\n",
      "0           0  1069124    ad      False        130       Monday             20\n",
      "1           1  1119715    ad      False         93      Tuesday             22\n",
      "2           2  1144181    ad      False         21      Tuesday             18\n",
      "3           3  1435133    ad      False        355      Tuesday             10\n",
      "4           4  1015700    ad      False        276       Friday             14\n",
      "group\n",
      "ad     564577\n",
      "psa     23524\n",
      "Name: count, dtype: int64\n"
     ]
    }
   ],
   "source": [
    "print(\"Dataset overview:\")\n",
    "print(data.head())  # Display the first few rows of the dataset\n",
    "print(data['group'].value_counts())  # Check the unique values and their counts in the 'group' column\n"
   ]
  },
  {
   "cell_type": "code",
   "execution_count": 19,
   "id": "5a7e38cb",
   "metadata": {},
   "outputs": [
    {
     "name": "stdout",
     "output_type": "stream",
     "text": [
      "Control group size: 564577\n",
      "Variant group size: 23524\n"
     ]
    }
   ],
   "source": [
    "# Splitting based on 'ad' as control and 'psa' as variant\n",
    "control_group = data[data['group'] == 'ad']\n",
    "variant_group = data[data['group'] == 'psa']\n",
    "\n",
    "print(\"Control group size:\", len(control_group))\n",
    "print(\"Variant group size:\", len(variant_group))\n"
   ]
  },
  {
   "cell_type": "code",
   "execution_count": 20,
   "id": "85a69aa2",
   "metadata": {},
   "outputs": [
    {
     "name": "stdout",
     "output_type": "stream",
     "text": [
      "Effect Size: 0.04904343430128437\n"
     ]
    }
   ],
   "source": [
    "import numpy as np\n",
    "\n",
    "# Ensuring 'converted' column is there in both groups\n",
    "if 'converted' not in control_group.columns or 'converted' not in variant_group.columns:\n",
    "    print(\"Error: 'converted' column missing in one or both groups.\")\n",
    "else:\n",
    "    # Calculate conversion rates\n",
    "    control_rate = control_group['converted'].mean()\n",
    "    variant_rate = variant_group['converted'].mean()\n",
    "\n",
    "    # Get the sizes of both groups\n",
    "    n_control = len(control_group)\n",
    "    n_variant = len(variant_group)\n",
    "\n",
    "    if n_control == 0 or n_variant == 0:\n",
    "        print(\"Error: One or both groups have zero size.\")\n",
    "    else:\n",
    "        # Calculate the pooled conversion rate\n",
    "        pooled_rate = (control_rate * n_control + variant_rate * n_variant) / (n_control + n_variant)\n",
    "\n",
    "        # Avoid division by zero\n",
    "        if pooled_rate == 0 or pooled_rate == 1:\n",
    "            print(f\"Error: Invalid pooled rate ({pooled_rate}), cannot calculate effect size.\")\n",
    "        else:\n",
    "            # Calculate the effect size for proportions\n",
    "            effect_size = (control_rate - variant_rate) / np.sqrt(pooled_rate * (1 - pooled_rate))\n",
    "            print(f\"Effect Size: {effect_size}\")\n"
   ]
  },
  {
   "cell_type": "code",
   "execution_count": 26,
   "id": "375b0f9c",
   "metadata": {},
   "outputs": [
    {
     "name": "stdout",
     "output_type": "stream",
     "text": [
      "Control group size: 564577\n",
      "Variant group size: 23524\n",
      "\n",
      "===== A/B Test Summary =====\n",
      "Control Group Conversion Rate: 0.0255\n",
      "Variant Group Conversion Rate: 0.0179\n",
      "P-Value: 0.0000\n",
      "Result: Statistically significant difference found at alpha=0.05.\n",
      "Recommendation: The control group performed better.\n"
     ]
    }
   ],
   "source": [
    "\n",
    "from statsmodels.stats.proportion import proportions_ztest\n",
    "\n",
    "# Assuming your data is in a DataFrame called 'data'\n",
    "# Splitting based on 'ad' as control and 'psa' as variant\n",
    "control_group = data[data['group'] == 'ad']\n",
    "variant_group = data[data['group'] == 'psa']\n",
    "\n",
    "# Check sizes of control and variant groups\n",
    "print(\"Control group size:\", len(control_group))\n",
    "print(\"Variant group size:\", len(variant_group))\n",
    "\n",
    "# Calculate conversion rates\n",
    "control_rate = control_group['converted'].mean()\n",
    "variant_rate = variant_group['converted'].mean()\n",
    "\n",
    "# Perform the hypothesis test\n",
    "success_control = control_group['converted'].sum()\n",
    "success_variant = variant_group['converted'].sum()\n",
    "\n",
    "n_control = len(control_group)\n",
    "n_variant = len(variant_group)\n",
    "\n",
    "count = np.array([success_control, success_variant])\n",
    "nobs = np.array([n_control, n_variant])\n",
    "\n",
    "z_stat, p_value = proportions_ztest(count, nobs)\n",
    "\n",
    "# Define Step 5: Reporting Insights\n",
    "def ab_test_summary(control, variant, p_val, alpha=0.05):\n",
    "    \"\"\"\n",
    "    Prints a summary of the A/B test results.\n",
    "    \"\"\"\n",
    "    control_rate = control.mean()\n",
    "    variant_rate = variant.mean()\n",
    "    \n",
    "    print(\"\\n===== A/B Test Summary =====\")\n",
    "    print(f\"Control Group Conversion Rate: {control_rate:.4f}\")\n",
    "    print(f\"Variant Group Conversion Rate: {variant_rate:.4f}\")\n",
    "    print(f\"P-Value: {p_val:.4f}\")\n",
    "    \n",
    "    if p_val < alpha:\n",
    "        print(f\"Result: Statistically significant difference found at alpha={alpha}.\")\n",
    "        if variant_rate > control_rate:\n",
    "            print(\"Recommendation: The variant group performed better.\")\n",
    "        else:\n",
    "            print(\"Recommendation: The control group performed better.\")\n",
    "    else:\n",
    "        print(f\"Result: No statistically significant difference found at alpha={alpha}.\")\n",
    "        print(\"Recommendation: Continue testing or make no changes.\")\n",
    "\n",
    "\n",
    "# Call the summary function with the conversion data and p-value\n",
    "ab_test_summary(control_group['converted'], variant_group['converted'], p_value)\n"
   ]
  },
  {
   "cell_type": "code",
   "execution_count": null,
   "id": "0054159e",
   "metadata": {},
   "outputs": [],
   "source": []
  }
 ],
 "metadata": {
  "kernelspec": {
   "display_name": "Python 3 (ipykernel)",
   "language": "python",
   "name": "python3"
  },
  "language_info": {
   "codemirror_mode": {
    "name": "ipython",
    "version": 3
   },
   "file_extension": ".py",
   "mimetype": "text/x-python",
   "name": "python",
   "nbconvert_exporter": "python",
   "pygments_lexer": "ipython3",
   "version": "3.11.5"
  }
 },
 "nbformat": 4,
 "nbformat_minor": 5
}
